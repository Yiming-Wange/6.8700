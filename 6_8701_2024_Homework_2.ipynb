{
  "nbformat": 4,
  "nbformat_minor": 0,
  "metadata": {
    "colab": {
      "provenance": []
    },
    "kernelspec": {
      "name": "python3",
      "display_name": "Python 3"
    },
    "language_info": {
      "name": "python"
    }
  },
  "cells": [
    {
      "cell_type": "markdown",
      "source": [
        "# 6.8701 Homework 2: Protein Language Models and Structure\n",
        "\n",
        "**Due: October 21 at 11:59 PM EDT**\n",
        "\n",
        "This homework has three parts, focusing on protein language modeling and protein structure. The goal is to expose you to different tools and data that can help you in your final project. In particular you will be using:\n",
        "\n",
        "- The ESM protein language model from Meta\n",
        "- Multiple Sequence Alignments\n",
        "- AlphaFold2/3\n",
        "- Pymol\n",
        "\n",
        "If you have any questions, please ask on piazza or at office hours!\n",
        "\n",
        "Copy this notebook, and answer all questions directly in this notebook and complete the missing code where marked with **COMPLETE HERE**.\n",
        "\n",
        "When you are done, submit the .ipynb file as well as PDF to Canvas."
      ],
      "metadata": {
        "id": "L1qRVVbAk8_g"
      }
    },
    {
      "cell_type": "markdown",
      "source": [
        "## 0. Setup (run this)"
      ],
      "metadata": {
        "id": "fiaT0KjHlfgV"
      }
    },
    {
      "cell_type": "code",
      "source": [
        "!pip install fair-esm scikit-learn biopython matplotlib torch pandas tqdm transformers"
      ],
      "metadata": {
        "id": "lwKs-urOUspO"
      },
      "execution_count": null,
      "outputs": []
    },
    {
      "cell_type": "code",
      "execution_count": null,
      "metadata": {
        "id": "CDQgDia7rwUQ",
        "colab": {
          "base_uri": "https://localhost:8080/"
        },
        "outputId": "a18a44bd-8e0b-4a50-b85f-45342256e07a"
      },
      "outputs": [
        {
          "output_type": "stream",
          "name": "stderr",
          "text": [
            "Downloading: \"https://dl.fbaipublicfiles.com/fair-esm/models/esm2_t30_150M_UR50D.pt\" to /root/.cache/torch/hub/checkpoints/esm2_t30_150M_UR50D.pt\n",
            "Downloading: \"https://dl.fbaipublicfiles.com/fair-esm/regression/esm2_t30_150M_UR50D-contact-regression.pt\" to /root/.cache/torch/hub/checkpoints/esm2_t30_150M_UR50D-contact-regression.pt\n"
          ]
        }
      ],
      "source": [
        "#these are your file inputs\n",
        "!wget -O train_esm6_data.pt https://www.dropbox.com/scl/fi/cf103vkoew0s5zys7920d/train_esm6_data.pt?rlkey=v7o2upz9txm0m284g6mgfq0ww&dl=0\n",
        "!wget -O test_esm6_data.pt https://www.dropbox.com/scl/fi/v18bvl57eog1ysjb07nww/test_esm6_data.pt?rlkey=idc0y0nzwfizxxf75kyxbfxdh&dl=0\n",
        "!wget -O train_esm150_data.pt https://www.dropbox.com/scl/fi/i4vazz4twcw38wzaykdq0/train_esm150_data.pt?rlkey=ev7tepsceqc4k5vbwsw5bsw67&dl=0\n",
        "!wget -O test_esm150_data.pt https://www.dropbox.com/scl/fi/yyjk31urec4gdwk8ajppt/test_esm150_data.pt?rlkey=v8o5mzp608w8tmxywqmn4r3ob&dl=0\n",
        "!wget -O blosum100.txt \"https://drive.google.com/uc?export=download&id=1DvQJVzCEQWMm1pzaFpgl8SEPMfqIIUqY\"\n",
        "!wget -O aav_alignment.a2m \"https://drive.google.com/uc?export=download&id=13-1rCMccfWvcUpFESBR6ubqsKNPrBNS6\"\n",
        "!wget -O aav_experiment.csv \"https://drive.google.com/uc?export=download&id=1KMH8HXtKF8u7c8tHjS4S8Ht91p2neQBS\"\n",
        "\n",
        "import matplotlib.pyplot as plt\n",
        "from Bio import AlignIO\n",
        "from Bio.Align import AlignInfo\n",
        "from Bio.Seq import Seq\n",
        "from Bio.SeqRecord import SeqRecord\n",
        "import numpy as np\n",
        "import esm\n",
        "import torch\n",
        "import numpy as np\n",
        "import pandas as pd\n",
        "from tqdm import tqdm\n",
        "import math\n",
        "from Bio.PDB import PDBParser, PDBList\n",
        "from google.colab import files\n",
        "import os\n",
        "from sklearn.decomposition import PCA\n",
        "from transformers import EsmForMaskedLM, EsmTokenizer\n",
        "from IPython.display import Image\n",
        "from Bio.SVDSuperimposer import SVDSuperimposer\n",
        "\n",
        "esm6_model, esm6_alphabet = esm.pretrained.esm2_t6_8M_UR50D()\n",
        "esm6_model.eval()\n",
        "\n",
        "esm150_model, esm150_alphabet = esm.pretrained.esm2_t30_150M_UR50D()\n",
        "esm150_model.eval()\n",
        "\n",
        "AA_NAME_MAP = {\n",
        "  'CYS': 'C', 'ASP': 'D', 'SER': 'S', 'GLN': 'Q', 'LYS': 'K',\n",
        "  'ILE': 'I', 'PRO': 'P', 'THR': 'T', 'PHE': 'F', 'ASN': 'N',\n",
        "  'GLY': 'G', 'HIS': 'H', 'LEU': 'L', 'ARG': 'R', 'TRP': 'W', 'TER':'*',\n",
        "  'ALA': 'A', 'VAL':'V', 'GLU': 'E', 'TYR': 'Y', 'MET': 'M','XAA':'X'\n",
        "}"
      ]
    },
    {
      "cell_type": "markdown",
      "source": [
        "## 1. Protein Language Models\n",
        "\n",
        "In this problem we will explore protein language models. The goal is to give you some intuitions as to what these models learn during the pretraining process and how they can be used in downstream applications.\n",
        "\n",
        "Protein language models like ESM are trained using the masked language modeling objective: given an input sequence, a subset of amino acids are masked and the model is tasked with predicting the masked tokens.\n",
        "\n",
        "This process enables the models to capture complex relationships and patterns within protein sequences, which can be leveraged in a variety of downstream applications such as predicting protein structure, function, and interactions. Through our exploration, we will gain insights into what these models learn during their training.\n",
        "\n",
        "### 1.A Amino Acid Embedding Representations\n",
        "\n",
        "We explore the initial amino acid embeddings learned by Protein Language Models (PLMs). These embeddings are vectors from a lookup table that convert amino acid tokens into representations suitable for computational analysis. By examining these embeddings, we can understand how PLMs initially represent the biochemical properties of amino acids. It is important to note that while the term 'embeddings' often refers to the last hidden layer representation in other contexts, here we are discussing the initial lookup table vectors.\n",
        "\n",
        "#### 1.A.1 Question\n",
        "\n",
        "Here we provide you with a vector for each amino acid. Run a dimensionality reduction startegy (ex: t-SNE) to visualize the amino acids in 2D. The hypothesis is that some amino acids may be more \"similar\" to each other. You can use whatever method you see fit, but sklearn has a good TSNE package: https://scikit-learn.org/stable/modules/generated/sklearn.manifold.TSNE.html\n",
        "\n",
        "Note: when using the TSNE implementation above, you may want to use a small value for the perplexity, 3 seemed to work well.\n",
        "\n",
        "You are given two ESM models to compare esm6 (esm2_t6_8M_UR50D) and esm150 (esm2_t30_150M_UR50D), both trained on Uniref50, but with 8M or 150M parameters, respectively. For more information about these models, you can check out: https://www.biorxiv.org/content/10.1101/2022.07.20.500902v1.full.pdf\n"
      ],
      "metadata": {
        "id": "vxRuKSYor1uo"
      }
    },
    {
      "cell_type": "code",
      "source": [
        "# Create a dictionary mapping an amino acid to its vector\n",
        "def get_aa_embeddings_esm(model, alphabet):\n",
        "  \"\"\"\n",
        "  This function accesses the first embedding layer of the specified model to extract the embedding\n",
        "  matrix. It then creates a dictionary mapping each amino acid token from the model's alphabet\n",
        "  to its vector representation in the embedding matrix.\n",
        "\n",
        "  Parameters:\n",
        "  model (torch.nn.Module): The pretrained protein language model whose initial embedding layer\n",
        "  contains the amino acid vectors.\n",
        "  alphabet (esm.Alphabet): An Alphabet object that maps amino acid tokens to their indices\n",
        "  within the embedding matrix.\n",
        "\n",
        "  Returns:\n",
        "  dict: A dictionary mapping amino acid tokens (str) to their corresponding embedding vectors\n",
        "  (numpy.ndarray), extracted from the model's initial embedding layer.\n",
        "  \"\"\"\n",
        "  embedding_matrix = model.embed_tokens.weight.data.numpy()\n",
        "  aa_tokens = alphabet.standard_toks[:-2]\n",
        "  aa_to_index = alphabet.to_dict()\n",
        "  aa_to_embeddings = {aa: embedding_matrix[aa_to_index[aa]] for aa in aa_tokens}\n",
        "  return aa_to_embeddings\n",
        "\n",
        "esm6_aa_embeddings = get_aa_embeddings_esm(esm6_model, esm6_alphabet)\n",
        "esm150_aa_embeddings = get_aa_embeddings_esm(esm150_model, esm150_alphabet)\n",
        "\n",
        "def plot_tsne_embeddings(embeddings, **kwargs):\n",
        "    \"\"\"\n",
        "    Performs dimensionality reduction on the given embeddings and plots the resulting 2D layout.\n",
        "\n",
        "    This function is designed to be flexible, allowing adjustments and additional parameters as needed for\n",
        "    specific t-SNE configurations or plotting customizations. You may find matplotlib helpful.\n",
        "\n",
        "    Returns:\n",
        "    None: This function only plots the results and does not return any value.\n",
        "    \"\"\"\n",
        "    pass  # Implementation goes here\n",
        "\n",
        "plot_tsne_embeddings(esm6_aa_embeddings)\n",
        "plot_tsne_embeddings(esm150_aa_embeddings)"
      ],
      "metadata": {
        "id": "mX-TqIwPO3tG"
      },
      "execution_count": null,
      "outputs": []
    },
    {
      "cell_type": "markdown",
      "source": [
        "#### 1.A.2 Question\n",
        "\n",
        "Amino acids are typically grouped by physiochemical properties, and these principles are often taught in biochemistry textbooks: https://cdn.technologynetworks.com/tn/images/body/aminoacids-pic3revised1574260662291.png\n",
        "\n",
        "Comment on the TSNE plots. In particular, pick 2 clusters and identify what is similar about the amino acids in these clusters, based on the above chart or information you might find from other sources or wikipedia. How do the projections compare between the two models? Does this align with biochemical theory?"
      ],
      "metadata": {
        "id": "2qd9ArPHO2-P"
      }
    },
    {
      "cell_type": "markdown",
      "source": [
        "**Answer here**:"
      ],
      "metadata": {
        "id": "wKeItFaqO9EV"
      }
    },
    {
      "cell_type": "markdown",
      "source": [
        "####  1.A.3 Question\n",
        "\n",
        "Other common embedding techniques for amino acids are one-hot encoding or BLOSUM encoding. One-hot coding assumes no prior knowledge of the amino acids, representing amino acids by a vector where only one element is set to one and all other 19 amino acdis are zero. BLOck Substitution Matrix (BLOSUM) captures evolutionary substitutability. The BLOSUM amino acids embedding for a given amino acid is also length 20 (the row of values that represents its substitutability with each of  amino acids). Use the same dimensional reduction strategy to now visualize the BLOSUM100 embeddings in 2D."
      ],
      "metadata": {
        "id": "SYG6SYXJrIpN"
      }
    },
    {
      "cell_type": "code",
      "source": [
        "# Create a dictionary mapping an amino acid to its vector\n",
        "def get_aa_embeddings_blosum():\n",
        "  \"\"\"\n",
        "  Reads a BLOSUM100 matrix from a text file and converts it into a dictionary mapping each\n",
        "  amino acid to its corresponding vector representation.\n",
        "\n",
        "  Returns:\n",
        "  dict: A dictionary where keys are amino acid characters (str) and values are their\n",
        "        associated vector representations (numpy.ndarray) derived from the BLOSUM100 matrix.\n",
        "  \"\"\"\n",
        "  embedding_matrix = pd.read_csv(\"blosum100.txt\",delim_whitespace=True,header=0)\n",
        "  aa_to_embeddings = {aa: embedding_matrix.values[index] for index, aa in enumerate(embedding_matrix.index)}\n",
        "  return aa_to_embeddings\n",
        "\n",
        "blosum_embedding = get_aa_embeddings_blosum()\n",
        "\n",
        "plot_tsne_embeddings(blosum_embedding)"
      ],
      "metadata": {
        "id": "LJ8opg8ZzrJT"
      },
      "execution_count": null,
      "outputs": []
    },
    {
      "cell_type": "markdown",
      "source": [
        "#### 1.A.4 Question\n",
        "\n",
        "Comment on your observations. Pick 2 clusters and identify what is similar about the amino acids in these clusters. You may refer to Wikipedia and other sources for information regarding the chemical properties of amino acids.How do the projections compare between BLOSUM and ESM?"
      ],
      "metadata": {
        "id": "eUZTlIqus_H9"
      }
    },
    {
      "cell_type": "markdown",
      "source": [
        "**Answer here**:"
      ],
      "metadata": {
        "id": "InsRT1W0tzrb"
      }
    },
    {
      "cell_type": "markdown",
      "source": [
        "### 1.B Sequence-level embeddings\n",
        "\n",
        "Explore sequence-level embeddings and apply them to build a simple classifier. Our goal is to predict the sub-cellular localization of proteins, focusing specifically on identifying whether a protein is a membrane protein.\n",
        "\n",
        "Membrane proteins are integral to the cell's interactions with its environment and internal communications. They are embedded within the cellular membranes, including the plasma membrane that encloses the cell and the membranes of various organelles such as the mitochondria and endoplasmic reticulum. Membrane proteins play roles in various cellular processes including signal transduction, transport of molecules, and cell-cell recognition.\n",
        "\n",
        "#### 1.B.1 Question\n",
        "\n",
        "Sequence level embeddings were precomputed for you. You will train a classifier. Here you are welcome to train a more complex classifier, but the simplest approach would be to train a logistic regression model using sklearn:\n",
        "\n",
        "https://scikit-learn.org/stable/modules/generated/sklearn.linear_model.LogisticRegression.html\n",
        "\n",
        "When using LogisticRegression, set C=10 and max_iter=1000 for best results.\n",
        "\n",
        "Make sure to train on the training set, and evaluate your performance on the test set.\n",
        "\n"
      ],
      "metadata": {
        "id": "WFmy-RedNp7_"
      }
    },
    {
      "cell_type": "markdown",
      "source": [
        "First load the embeddings (split into a training and test set). Train and test data is provided for both ESM6 and ESM150 models, train one classifier on each model and compare model performance on the test sets. Note that these two datasets are the same, but the sequence embedding vector depends on the esm model."
      ],
      "metadata": {
        "id": "u1lW-vQgpMHD"
      }
    },
    {
      "cell_type": "code",
      "source": [
        "# Loading the Dataset\n",
        "# The datasets loaded below consist of lists of 2-tuples, each containing:\n",
        "# 1. A learned representation (often referred to as an \"embedding\") of a protein sequence.\n",
        "# 2. A boolean label (True/False) indicating whether the protein is a membrane protein.\n",
        "train_esm6 = torch.load(\"/content/train_esm6_data.pt\")\n",
        "test_esm6 = torch.load(\"/content/test_esm6_data.pt\")\n",
        "\n",
        "train_esm150 = torch.load(\"/content/train_esm150_data.pt\")\n",
        "test_esm150 = torch.load(\"/content/test_esm150_data.pt\")"
      ],
      "metadata": {
        "id": "Ic1GRxFep5Is"
      },
      "execution_count": null,
      "outputs": []
    },
    {
      "cell_type": "markdown",
      "source": [
        "Next, initialize and train the classifier on your training dataset. Here, you'll set up the logistic regression classifier using the given parameters: C=10 and max_iter=1000."
      ],
      "metadata": {
        "id": "DeCtGkyBu1Cl"
      }
    },
    {
      "cell_type": "code",
      "source": [
        "def train_membrane_classifier(train_data, **kwargs):\n",
        "    \"\"\"\n",
        "    Trains a classifier on protein sequence embeddings to predict membrane protein status.\n",
        "\n",
        "    This function initializes and fits a model (which can be logistic regression, though alternatives\n",
        "    are allowed) using the provided training data. The classifier is trained to distinguish between\n",
        "    membrane and non-membrane proteins based on their learned embeddings, such as ESM-6 or ESM-150.\n",
        "\n",
        "    Parameters:\n",
        "    - train_data (list of tuples): A list where each element is a tuple containing:\n",
        "        1. An embedding vector (np.ndarray) representing a protein sequence.\n",
        "        2. A boolean label (True/False) indicating whether the protein is a membrane protein.\n",
        "\n",
        "    Returns:\n",
        "    - model: The trained (logistic regression or other) model. It should take in a tensor/matrix\n",
        "      representation and return logits or probabilities of being a membrane protein or not.\n",
        "    \"\"\"\n",
        "    raise NotImplementedError\n",
        "\n",
        "model_on_esm6 = train_membrane_classifier(train_esm6)\n",
        "model_on_esm150 = train_membrane_classifier(train_esm150)"
      ],
      "metadata": {
        "id": "Iee0Swx0u89r"
      },
      "execution_count": null,
      "outputs": []
    },
    {
      "cell_type": "markdown",
      "source": [
        " Now, predict and evaluate performance on test set. Now that the classifiers are trained, you can make predictions and evaluate each model on their test set using accuracy and ROC-AUC (from sklearn.metrics: https://scikit-learn.org/1.5/api/sklearn.metrics.html)."
      ],
      "metadata": {
        "id": "Vo1xWL9CvDBf"
      }
    },
    {
      "cell_type": "code",
      "source": [
        "def evaluate_model_performance(model, test_data):\n",
        "    \"\"\"\n",
        "    Uses the provided trained model to make predictions on the test dataset,\n",
        "    and then computes two performance metrics: accuracy and ROC-AUC score. Accuracy measures\n",
        "    the proportion of correct predictions (both true positives and true negatives) while\n",
        "    ROC-AUC score provides an aggregate measure of performance across all possible\n",
        "    classification thresholds, focusing on the model's ability to distinguish between classes.\n",
        "\n",
        "    Parameters:\n",
        "    - model: The trained model, which should have a predict method for generating predictions\n",
        "             and a predict_proba method for generating class probabilities.\n",
        "    - test_data (list of tuples): A list where each element is a tuple containing:\n",
        "        1. An embedding vector (np.ndarray) representing a protein sequence.\n",
        "        2. A boolean label (True/False) indicating whether the protein is a membrane protein.\n",
        "\n",
        "    Returns:\n",
        "    - accuracy (float): The fraction of correctly classified samples.\n",
        "    - roc_auc (float): The ROC-AUC score indicating the model's ability to discriminate between\n",
        "                       the classes.\n",
        "\n",
        "    \"\"\"\n",
        "    pass\n",
        "\n",
        "    accuracy_ESM6 = ##\n",
        "    print(f\"Accuracy ESM6: {accuracy_ESM6:.4f}\")\n",
        "\n",
        "    roc_auc_ESM6 = ##\n",
        "    print(f\"ROC-AUC ESM6: {roc_auc_ESM6:.4f}\")\n",
        "\n",
        "    accuracy_ESM150 = ##\n",
        "    print(f\"Accuracy ESM150: {accuracy_ESM150:.4f}\")\n",
        "\n",
        "    roc_auc_ESM150 = ##\n",
        "    print(f\"ROC-AUC ESM150: {roc_auc_ESM150:.4f}\")"
      ],
      "metadata": {
        "id": "DypEtvWUwACl"
      },
      "execution_count": null,
      "outputs": []
    },
    {
      "cell_type": "markdown",
      "source": [
        "#### 1.B.2 Question\n",
        "\n",
        "Compare both accuracy and ROC-AUC (see sklearn's roc_auc_score). Which model performed best on the test set and is this what you expected?"
      ],
      "metadata": {
        "id": "9O1Yo5-KwQq5"
      }
    },
    {
      "cell_type": "markdown",
      "source": [
        "**ANSWER**:"
      ],
      "metadata": {
        "id": "2lreWm9-wqE5"
      }
    },
    {
      "cell_type": "markdown",
      "source": [
        "### 1.C Mutation effect prediction\n",
        "\n",
        "In biology, a mutation refers to any change in the DNA sequence that can alter the amino acid sequence of a protein. Proteins, encoded by genes, perform essential functions in living organisms, and any change in their structure due to mutations can impact their function.\n",
        "\n",
        "**Wild-Type Proteins**: This term refers to the most common form of a protein found in a population, serving as the standard version for comparison in genetic studies. In contrast, a **mutant** protein has a different sequence from the wild-type.\n",
        "\n",
        "**Gain of function mutations** introduce new or enhanced activities in a protein.\n",
        "**Loss of function mutations** reduce or eliminate the ability of the protein to perform its normal functions.\n",
        "\n",
        "A goal is to predict how specific mutations in the protein sequence affect its function. This prediction helps in understanding how genetic variations contribute to different traits, diseases, or responses to drugs, much like predicting how changes in a software's code would affect its operation.\n",
        "\n",
        "We use the ESM model to perform mutation effect prediction. We will compare our prediction to an experimental deep mutational scan (DMS), where most single amino acid mutations (and some combinations of mutations) are made to the Adeno-associated virus\n",
        "(AAV) capsid protein and the fitness impact of each mutation is measured. Here, the fitness is the ability of the capsid to assemble and package (viability). Higher scores are more fit or gain of function, and lower scores have less fitness or loss of function.\n",
        "\n",
        "\n",
        "#### 1.C.1 Question\n",
        "\n",
        "Many scoring functions from protein language models correlate with effects on protein function. One such function is the masked marginal scoring function, which computes the log probability difference between wildtype and mutated residues. Here, M are the masked residues where mutations occur, x^mt_i is the mutant-type residue at position i and x^wt_i is the wild-type residue at position i. We will just consider single mutations at a time.\n",
        "\n",
        "![Screenshot 2024-10-02 at 3.58.59 PM.png](data:image/png;base64,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)"
      ],
      "metadata": {
        "id": "TN7-NNmAdZ8w"
      }
    },
    {
      "cell_type": "markdown",
      "source": [
        "The idea here is that a protein that is more fit has higher probability, while a non function (less fitness) protein should have lower probability, where probability represents the probablity of the protein being found in the wild (and our training and test dataset). However, we will be working with log probabilites."
      ],
      "metadata": {
        "id": "Xpa5IihdIkep"
      }
    },
    {
      "cell_type": "markdown",
      "source": [
        "Write code to predict mutation effects using the ESM 8M model (from Hugging Face: https://huggingface.co/facebook/esm2_t6_8M_UR50D)."
      ],
      "metadata": {
        "id": "dlRxOXgu1FNe"
      }
    },
    {
      "cell_type": "code",
      "source": [
        "def load_esm_model():\n",
        "    \"\"\"\n",
        "    Loads the ESM2 model and tokenizer from Hugging Face and moves the model to GPU if available.\n",
        "\n",
        "    This function initializes the \"facebook/esm2_t6_8M_UR50D\" model (designed for protein language\n",
        "    modeling) and its tokenizer, then checks if a CUDA-compatible GPU is available. If so, it sends\n",
        "    the model to the GPU to speed up computations; otherwise, it sticks with the CPU.\n",
        "\n",
        "    Returns:\n",
        "    - model: The ESM2 model ready for protein sequence tasks.\n",
        "    - tokenizer: The tokenizer that processes protein sequences for the model.\n",
        "    \"\"\"\n",
        "    model_name = \"facebook/esm2_t6_8M_UR50D\"\n",
        "    model = EsmForMaskedLM.from_pretrained(model_name)\n",
        "    tokenizer = EsmTokenizer.from_pretrained(model_name)\n",
        "\n",
        "    device = torch.device('cuda' if torch.cuda.is_available() else 'cpu')\n",
        "    model = model.to(device)\n",
        "\n",
        "    return model, tokenizer\n",
        "\n",
        "model, tokenizer = load_esm_model()"
      ],
      "metadata": {
        "id": "OMx_O-tq3_vv"
      },
      "execution_count": null,
      "outputs": []
    },
    {
      "cell_type": "code",
      "source": [
        "def seq_to_esm_logits(sequence, mutation, model):\n",
        "    \"\"\"\n",
        "    Computes the logits for a masked position in a protein sequence where a mutation is specified.\n",
        "\n",
        "    This function modifies a given protein sequence by masking the amino acid at the position specified\n",
        "    by the mutation. It then tokenizes this sequence using a pre-trained tokenizer and passes it to a\n",
        "    pre-trained model to predict the logits (unnormalized log probabilities) for all possible amino acids\n",
        "    at the masked position.\n",
        "\n",
        "    Parameters:\n",
        "    - sequence (str): The original protein sequence.\n",
        "    - mutation (str): A string indicating the position and the new amino acid, e.g., 'A234B'.\n",
        "                      The mutation format should be: original amino acid, position (1-based index), new amino acid.\n",
        "\n",
        "    Returns:\n",
        "    - logits (torch.Tensor): A tensor of shape (1, number of possible amino acids) containing the logits for\n",
        "                             each amino acid at the masked position.\n",
        "\n",
        "    Note:\n",
        "    - The position in the mutation string is assumed to be 1-based, and Hugging Face tokenizer uses zero-indexing.\n",
        "      The function automatically adjusts for this indexing difference.\n",
        "    \"\"\"\n",
        "    pos = int(mutation[1:-1])\n",
        "    # Convert sequence to a list to perform mutations\n",
        "    sequence_list = list(sequence)\n",
        "\n",
        "    # Mask the position where the mutation is to be applied\n",
        "    sequence_list[pos - 1] = tokenizer.mask_token  # Using position-1 because Hugging Face uses zero-indexing\n",
        "    masked_sequence = \"\".join(sequence_list)\n",
        "\n",
        "    # Tokenize the sequence with the masked token\n",
        "    inputs = tokenizer(masked_sequence, return_tensors=\"pt\")\n",
        "\n",
        "    # Move inputs to the same device as the model\n",
        "    device = torch.device('cuda' if torch.cuda.is_available() else 'cpu') ##copy device code from above if needed\n",
        "    inputs = {k: v.to(device) for k, v in inputs.items()}\n",
        "\n",
        "    # Predict the masked token probabilities\n",
        "    with torch.no_grad():\n",
        "        output = model(**inputs)\n",
        "\n",
        "    # Get the logits for the masked token at the mutated position\n",
        "    # this should be equivalent to pos - 1 here, but it is more flexible\n",
        "    masked_index = (inputs['input_ids'] == tokenizer.mask_token_id).nonzero(as_tuple=True)[1]\n",
        "\n",
        "    logits = output.logits[0, masked_index, :]\n",
        "    return logits"
      ],
      "metadata": {
        "id": "cKlusMPc2zQC"
      },
      "execution_count": null,
      "outputs": []
    },
    {
      "cell_type": "markdown",
      "source": [
        "Next, write a function to score a mutation to a given sequence."
      ],
      "metadata": {
        "id": "4NqqRU6xK7xy"
      }
    },
    {
      "cell_type": "code",
      "source": [
        "sequence = \"MYSEQUENCE\"\n",
        "mutation = \"Y2A\"\n",
        "\n",
        "def score_mutant_masked_marginal(sequence, mutation):\n",
        "    \"\"\"\n",
        "    Calculates the effect of a mutation in a protein sequence using the masked marginal probability method.\n",
        "\n",
        "    This function determines the effect of substituting one amino acid for another at a specific position\n",
        "    in a protein sequence. It computes the logits for all possible amino acids at the mutated position\n",
        "    using a pre-trained model. The function then converts these logits into probabilities and compares\n",
        "    the probability of the original amino acid with that of the mutated amino acid to estimate the\n",
        "    mutation's impact.\n",
        "\n",
        "    Parameters:\n",
        "    - sequence (str): The original protein sequence.\n",
        "    - mutation (str): A string specifying the mutation, formatted as 'XnY', where 'X' is the original amino acid,\n",
        "                      'n' is the position (1-based index), and 'Y' is the new amino acid.\n",
        "\n",
        "    Returns:\n",
        "    - mutation_effect (float): The log-ratio of the probabilities of the mutated amino acid to the original amino acid,\n",
        "                               providing a measure of how the mutation affects the protein's fitness.\n",
        "\n",
        "    The function outputs a positive value for a gain of function (mutant more likely than wild type) and a negative\n",
        "    value for a loss of function (mutant less likely than wild type).\n",
        "    \"\"\"\n",
        "    original_aa = mutation[0]\n",
        "    pos = int(mutation[1:-1])\n",
        "    mutated_aa = mutation[-1]\n",
        "\n",
        "    logits = seq_to_esm_logits(sequence, mutation, model) ##CHANGED THIS LINE TO ADD MODEL\n",
        "    print(f\"Shape of logits: {logits.shape}\")  #comment this out during the for loop\n",
        "\n",
        "    ### COMPLETE HERE\n",
        "    # Convert original and mutated amino acids to their token IDs\n",
        "    original_aa_id = #\n",
        "    mutated_aa_id = #\n",
        "\n",
        "    # Get the softmax probabilities from the logits\n",
        "    probabilities = #\n",
        "\n",
        "    #Select probabilities (taken from logits) of original and mutated amino acids using their token ids ()\n",
        "    original_prob = #\n",
        "    mutated_prob = #\n",
        "\n",
        "    # Compute the mutation effect: log-ratio of the probabilities\n",
        "    mutation_effect = #\n",
        "\n",
        "    return mutation_effect\n",
        "\n",
        "score_mutant_masked_marginal(sequence, mutation)"
      ],
      "metadata": {
        "id": "fR-rnFOV1b4z"
      },
      "execution_count": null,
      "outputs": []
    },
    {
      "cell_type": "markdown",
      "source": [
        "Now, load the experimental data and score all single mutations in the AAV deep mutational scan. Our goal will be to compare the score made by ESM2 versus the experimental scores."
      ],
      "metadata": {
        "id": "IPk6hQ3B6vrl"
      }
    },
    {
      "cell_type": "code",
      "source": [
        "def compute_esm_scores_for_mutations(experiment_data, background_sequence):\n",
        "    \"\"\"\n",
        "    Computes ESM scores for each single mutation in the experimental data using a given background sequence.\n",
        "\n",
        "    This function filters the experimental data to focus only on single mutations, computes ESM scores for each mutation,\n",
        "    and appends these scores to the dataframe.\n",
        "\n",
        "    Parameters:\n",
        "    - experiment_data (pandas.DataFrame): The experimental data containing a column 'mutant' with mutation strings.\n",
        "    - background_sequence (str): The background protein sequence used as the basis for mutation.\n",
        "\n",
        "    Returns:\n",
        "    - experiment_data (pandas.DataFrame): The modified DataFrame with an additional column 'esm_score' containing\n",
        "                                          the computed ESM scores for each mutation.\n",
        "\n",
        "    Usage:\n",
        "    This function is specifically designed to handle data formats where mutations are denoted as single string entries\n",
        "    in the 'mutant' column of the provided DataFrame. It requires the background sequence of the protein to be fully\n",
        "    specified and expects that the sequence and mutations correspond accurately to each other.\n",
        "    \"\"\"\n",
        "    # Filter for single mutations\n",
        "    experiment_data[\"num_muts\"] = experiment_data.mutant.str.split(\":\").str.len()\n",
        "    experiment_single_muts = experiment_data[experiment_data.num_muts == 1]\n",
        "\n",
        "    # List of all single mutations\n",
        "    aav_mutations = experiment_single_muts.mutant.values\n",
        "\n",
        "    # Compute ESM scores for each mutation\n",
        "    esm_scores = [score_mutant_masked_marginal(background_sequence, mutation) for mutation in aav_mutations]\n",
        "\n",
        "    # Append ESM scores to the DataFrame\n",
        "    experiment_single_muts['esm_score'] = esm_scores\n",
        "\n",
        "    return experiment_single_muts\n",
        "\n",
        "# Load experimental data\n",
        "experiment = pd.read_csv(\"aav_experiment.csv\")\n",
        "\n",
        "# Wild type AAV sequence used in experiment\n",
        "aav_sequence = \"MAADGYLPDWLEDTLSEGIRQWWKLKPGPPPPKPAERHKDDSRGLVLPGYKYLGPFNGLDKGEPVNEADAAALEHDKAYDRQLDSGDNPYLKYNHADAEFQERLKEDTSFGGNLGRAVFQAKKRVLEPLGLVEEPVKTAPGKKRPVEHSPVEPDSSSGTGKAGQQPARKRLNFGQTGDADSVPDPQPLGQPPAAPSGLGTNTMATGSGAPMADNNEGADGVGNSSGNWHCDSTWMGDRVITTSTRTWALPTYNNHLYKQISSQSGASNDNHYFGYSTPWGYFDFNRFHCHFSPRDWQRLINNNWGFRPKRLNFKLFNIQVKEVTQNDGTTTIANNLTSTVQVFTDSEYQLPYVLGSAHQGCLPPFPADVFMVPQYGYLTLNNGSQAVGRSSFYCLEYFPSQMLRTGNNFTFSYTFEDVPFHSSYAHSQSLDRLMNPLIDQYLYYLSRTNTPSGTTTQSRLQFSQAGASDIRDQSRNWLPGPCYRQQRVSKTSADNNNSEYSWTGATKYHLNGRDSLVNPGPAMASHKDDEEKFFPQSGVLIFGKQGSEKTNVDIEKVMITDEEEIRTTNPVATEQYGSVSTNLQRGNRQAATADVNTQGVLPGMVWQDRDVYLQGPIWAKIPHTDGHFHPSPLMGGFGLKHPPPQILIKNTPVPANPSTTFSAAKFASFITQYSTGQVSVEIEWELQKENSKRWNPEIQYTSNYNKSVNVDFTVDTNGVYSEPRPIGTRYLTRNL\"\n",
        "\n",
        "# Compute ESM scores\n",
        "experiment_scores = compute_esm_scores_for_mutations(experiment, aav_sequence)"
      ],
      "metadata": {
        "id": "ueYIa1_ndtKe"
      },
      "execution_count": null,
      "outputs": []
    },
    {
      "cell_type": "markdown",
      "source": [
        "#### 1.C.2 Question\n",
        "Compute the correlation between the model scores (esm_score) and the experiments (DMS_score) and make a scatterplot. What do you observe? Is this the correlation that you expected? Hypothesize how you could make better predictions?"
      ],
      "metadata": {
        "id": "sv083KqzgGH3"
      }
    },
    {
      "cell_type": "code",
      "source": [
        "def compare_scores(experiment_scores):\n",
        "    \"\"\"\n",
        "    Generates a scatter plot to compare experimental DMS scores with model ESM scores and calculates\n",
        "    the Spearman correlation between them.\n",
        "\n",
        "    Parameters:\n",
        "    - experiment_scores (pandas.DataFrame): DataFrame with columns 'DMS_score' for experimental scores and\n",
        "      'esm_score' for model scores.\n",
        "\n",
        "    Returns:\n",
        "    - float: The Spearman correlation coefficient indicating the relationship between the two score sets.\n",
        "    \"\"\"\n",
        "    pass"
      ],
      "metadata": {
        "id": "q49ASrg-ihiw"
      },
      "execution_count": null,
      "outputs": []
    },
    {
      "cell_type": "markdown",
      "source": [
        "**ANSWER**:"
      ],
      "metadata": {
        "id": "9UHYYuy7uZXA"
      }
    },
    {
      "cell_type": "markdown",
      "source": [
        "#### 1.C.3 Question\n",
        "Let's generate a multiple sequence alignment (MSA) for AAV. In a multiple sequence alignment, homologous residues among a set of sequences are aligned together in columns. MSAs are used for traditional method to learn mutation effects by analyzing the probability of different mutations in the set of homologous or evolutionary-related sequences.\n",
        "\n",
        "\n",
        "\n",
        "\n",
        "\n"
      ],
      "metadata": {
        "id": "H1HXN0TCN2Gc"
      }
    },
    {
      "cell_type": "markdown",
      "source": [
        "We have provided an alignment for AAV (aav_alignment.a2m), but you can also try to generate your own alignment!\n",
        "\n",
        "The steps to generate an alignment would be 1) using JackHMMer to search for homologous sequences and 2) Using Clustal Omega to align the sequences.\n",
        "\n",
        "1) Use JackHMMER to Search UniProtKb\n",
        "JackHMMER performs iterative sequence searches and builds alignments by finding homologous sequences in databases like UniProtKB.\n",
        "\n",
        "Go to the JackHMMER search page at the European Bioinformatics Institute (EBI): https://www.ebi.ac.uk/Tools/hmmer/search/jackhmmer\n",
        "\n",
        "Enter your protein sequence in FASTA format:\n",
        "  \n",
        "    >AAV\n",
        "    MAADGYLPDWLEDTLSEGIRQWWKLKPGPPPPKPAERHKDDSRGLVLPGYKYLGPFNGLDKGEPVNEADAAALEHDKAYDRQLDSGDNPYLKYNHADAEFQERLKEDTSFGGNLGRAVFQAKKRVLEPLGLVEEPVKTAPGKKRPVEHSPVEPDSSSGTGKAGQQPARKRLNFGQTGDADSVPDPQPLGQPPAAPSGLGTNTMATGSGAPMADNNEGADGVGNSSGNWHCDSTWMGDRVITTSTRTWALPTYNNHLYKQISSQSGASNDNHYFGYSTPWGYFDFNRFHCHFSPRDWQRLINNNWGFRPKRLNFKLFNIQVKEVTQNDGTTTIANNLTSTVQVFTDSEYQLPYVLGSAHQGCLPPFPADVFMVPQYGYLTLNNGSQAVGRSSFYCLEYFPSQMLRTGNNFTFSYTFEDVPFHSSYAHSQSLDRLMNPLIDQYLYYLSRTNTPSGTTTQSRLQFSQAGASDIRDQSRNWLPGPCYRQQRVSKTSADNNNSEYSWTGATKYHLNGRDSLVNPGPAMASHKDDEEKFFPQSGVLIFGKQGSEKTNVDIEKVMITDEEEIRTTNPVATEQYGSVSTNLQRGNRQAATADVNTQGVLPGMVWQDRDVYLQGPIWAKIPHTDGHFHPSPLMGGFGLKHPPPQILIKNTPVPANPSTTFSAAKFASFITQYSTGQVSVEIEWELQKENSKRWNPEIQYTSNYNKSVNVDFTVDTNGVYSEPRPIGTRYLTRNL\n",
        "\n",
        "Select UniProtKB as the target database.\n",
        "\n",
        "JackHMMER will iteratively search for homologous sequences in the target database.\n",
        "\n",
        "After each iteration, JackHMMER will display homologous sequences found in the target database, ranked by e-value (sequence similarity score).\n",
        "You can adjust the number of iterations to get more homologous sequences if needed.\n",
        "\n",
        "Once the search is complete, you can download the aligned sequences in FASTA format by selecting the option to export them."
      ],
      "metadata": {
        "id": "BwhoOwTgVela"
      }
    },
    {
      "cell_type": "markdown",
      "source": [
        "2)  After retrieving homologous sequences, you can align them to your target sequence using an MSA tool such as Clustal Omega.\n",
        "\n",
        "Go to Clustal Omega at EBI: https://www.ebi.ac.uk/jdispatcher/msa/clustalo\n",
        "\n",
        "Paste the target sequence along with the sequences retrieved from JackHMMER into the sequence input box.\n",
        "\n",
        "Click \"Submit\" to run the multiple sequence alignment.\n",
        "\n",
        "Once the MSA is completed, you can download the aligned sequences in various formats (e.g., FASTA, Clustal format)."
      ],
      "metadata": {
        "id": "JozGCnC3OAlV"
      }
    },
    {
      "cell_type": "markdown",
      "source": [
        "**BONUS ANSWER**: (Upload images of your outputs from JackHMMER and Clustal)"
      ],
      "metadata": {
        "id": "xcNu0RXsscv7"
      }
    },
    {
      "cell_type": "markdown",
      "source": [
        "#### 1.C.4 Question\n",
        "\n",
        "Let's compute an Position Site Score Matrix (PSSM) from either the provided or your generated alignment. A PSSM is the frequency (probability) of each amino acid at each position in the alignment. Amino acids that aren't in the alignment at that position are given low (negative) scores. Note if you are going to use your own alignment, you must remove any columns that are positions not present in the given AAV sequence (or indexing will be off)."
      ],
      "metadata": {
        "id": "p_aJllSiKbIh"
      }
    },
    {
      "cell_type": "code",
      "source": [
        "def generate_pssm_and_update_experiment(msa_file, experiment_data, **kwargs):\n",
        "    \"\"\"\n",
        "    This function processes an MSA to compute the frequency of each amino acid at each position in the alignment,\n",
        "    ignoring non-amino acid characters. It then computes a score for each mutation in the experimental data based\n",
        "    on the PSSM and updates the DataFrame with these scores.\n",
        "\n",
        "    Notes: 1) Load the Multiple Sequence Alignment (MSA) file (aav_alignment.a2m).\n",
        "    2) Ignore characters \"-\" and \"X\" (or others if needed that aren't amino acids)\n",
        "    3) Add mutation effect PSSM scores into the experimental data frame for all mutations in the AAV experiment\n",
        "    4) Can use Biopython or calculate frequencies yourself (in biopython, you can use the \"fasta\" type for this \"a2m\" alignment)\n",
        "\n",
        "    Parameters:\n",
        "    - msa_file (str): Path to the file containing the MSA data, typically in .a2m or similar format.\n",
        "    - experiment_data (pandas.DataFrame): DataFrame containing experimental data with a column for mutations.\n",
        "\n",
        "    Returns:\n",
        "    - pandas.DataFrame: Updated DataFrame including a new column with PSSM scores for each mutation.\n",
        "    \"\"\"\n",
        "    pass"
      ],
      "metadata": {
        "id": "nYU1oEO5HKZi"
      },
      "execution_count": null,
      "outputs": []
    },
    {
      "cell_type": "markdown",
      "source": [
        "Compute the correlation between the model scores (PSSM) and the experiments (DMS_score) and make a scatterplot. What do you observe? Which model better predicts the experimental data? Is this what you expected? What problems may PSSMs have?"
      ],
      "metadata": {
        "id": "4KDGZOoGKhlz"
      }
    },
    {
      "cell_type": "code",
      "source": [
        "def compare_dms_pssm_scores(experiment_scores, **kwargs):\n",
        "    \"\"\"\n",
        "    Create scatterplot comparing single mutation experiment dms scores and model PSSM scores.\n",
        "    Calculate spearman between experiment dms scores and model PSSM scores\n",
        "\n",
        "    Parameters:\n",
        "    - experiment_scores (pandas.DataFrame): DataFrame containing 'DMS_score' for experimental scores\n",
        "      and 'pssm_score' for model predictions.\n",
        "\n",
        "    Returns:\n",
        "    - float: Spearman correlation coefficient, quantifying the degree to which the model predictions\n",
        "      are associated with the experimental results.\n",
        "    \"\"\"\n",
        "    pass"
      ],
      "metadata": {
        "id": "t_oAolNNuc19"
      },
      "execution_count": null,
      "outputs": []
    },
    {
      "cell_type": "markdown",
      "source": [
        "**ANSWER**:"
      ],
      "metadata": {
        "id": "sg0mt5UQiGHW"
      }
    },
    {
      "cell_type": "markdown",
      "source": [
        "\n",
        "## 2. Structure Prediction\n",
        "\n",
        "In this problem, you will predict the structure of the AAV protein using both AlphaFold2 and AlphaFold3. Use the wild-type sequence from 1.C.3.\n"
      ],
      "metadata": {
        "id": "nJI_ZaixJ5hP"
      }
    },
    {
      "cell_type": "markdown",
      "source": [
        "\n",
        "#### 2.A.1 Question\n",
        "\n",
        "Run your protein through AlphaFold2 using this notebook:\n",
        "https://colab.research.google.com/github/sokrypton/ColabFold/blob/main/AlphaFold2.ipynb\n",
        "\n",
        "All you need to do is paste in your sequence from above and run all the cells. No need to modify any of the parameters. See the part that says:  \n",
        "`Input protein sequence(s), then hit Runtime -> Run all`\n",
        "\n",
        "This may take up to an hour to complete. Once done, take a screenshot of the predicted structure and download results. The external notebook downloads zip file `jobname.result.zip` to your system. On extracting, among many other files, there are a sequence of PDB files out of which the one that is first generated can be uploaded. It will look something like this:  \n",
        "`<job_name>_unrelaxed_rank_005_alphafold2_ptm_model_1_seed_000.pdb`\n",
        "\n",
        "Upload any of the pdb files and the screenshot into this notebook using the files tab to the left. There's a button to upload files. Once uploaded you should press `copy file path` to get the correct paths for your uploads (they usually live under the `/content/` directory).\n",
        "\n",
        "Display you screenshot and load the pdb using the code provided."
      ],
      "metadata": {
        "id": "T350bW3FKE9y"
      }
    },
    {
      "cell_type": "code",
      "source": [
        "def load_pdb_file(file_name):\n",
        "  \"\"\"\n",
        "  Load a PDB file and extract the structure, amino acid sequence, and coordinates of the alpha carbons.\n",
        "\n",
        "  This function only processes the first model and the chain with ID 'A' from the PDB file.\n",
        "\n",
        "  Parameters:\n",
        "  file_name (str): The path to the PDB file to be loaded.\n",
        "\n",
        "  Returns:\n",
        "  tuple:\n",
        "      - Bio.PDB.Structure.Structure: The complete structure as parsed from the file.\n",
        "      - str: The sequence of amino acids from chain A.\n",
        "      - numpy.ndarray: The coordinates of the alpha carbons in chain A.\n",
        "    \"\"\"\n",
        "  pdbp = PDBParser()\n",
        "  struct = pdbp.get_structure(\"struct\", file_name)\n",
        "  model = struct[0]\n",
        "\n",
        "  sequence = []\n",
        "  coords = []\n",
        "  for chain in model:\n",
        "    if chain.id != \"A\":\n",
        "      continue\n",
        "    for residue in chain:\n",
        "      coords.append(residue['CA'].get_vector().get_array())\n",
        "      resname = AA_NAME_MAP[residue.resname]\n",
        "      sequence.append(residue.resname)\n",
        "\n",
        "  return struct, \"\".join(sequence), np.array(coords)\n",
        "\n",
        "def display_image(file_name):\n",
        "  \"\"\"\n",
        "  Parameters:\n",
        "  file_name (str): The path to the image file to be displayed.\n",
        "\n",
        "  Returns:\n",
        "  IPython.core.display.Image: An image object that can be displayed in an IPython notebook.\n",
        "  \"\"\"\n",
        "  return Image(filename=file_name)\n",
        "\n",
        "# COMPLETE HERE\n",
        "# load your structure & display the plot you downloaded\n",
        "# to get the correct path for your file, select it and press \"copy path\"\n",
        "af2_coords = #"
      ],
      "metadata": {
        "id": "fagAbIDmKA6Z"
      },
      "execution_count": null,
      "outputs": []
    },
    {
      "cell_type": "markdown",
      "source": [
        "#### 2.A.2 Question\n",
        "\n",
        "Now fold the same sequence using AlphaFold3.\n",
        "\n",
        "You can use this link: https://alphafoldserver.com/about.\n",
        "\n",
        "Once you're done, take a screenshot of the predicted structure and download the PDB file. Upload both files again as you did in the previous problem, display the image here and load the pdb coordinates using the `load_pdb_file` above."
      ],
      "metadata": {
        "id": "ij0J9aCzNGzu"
      }
    },
    {
      "cell_type": "code",
      "source": [
        "### COMPLETE HERE\n",
        "af3_coords = #"
      ],
      "metadata": {
        "id": "y7g6HLe6NHbc"
      },
      "execution_count": null,
      "outputs": []
    },
    {
      "cell_type": "markdown",
      "source": [
        "#### 2.A.3 Question\n",
        "\n",
        "Now we will compare the two predictions. For this, you will compute the RMSD. Recall the RMSD:\n",
        "\n",
        "$$ f(x, y) = \\frac{1}{N} \\sum_{i=1}^N ||x_i - y_i||^2  \\\\\n",
        "RMSD(x, y) = \\sqrt{f(x, y)} $$\n",
        "\n",
        "\n",
        "First we will align the two structures and then we will compute the deviation. What is the RMSD between your two predicted structures? Do the models seem to agree?"
      ],
      "metadata": {
        "id": "uos4M2dmKHiU"
      }
    },
    {
      "cell_type": "code",
      "source": [
        "def compute_rmsd(coords1, coords2):\n",
        "    \"\"\"\n",
        "    Calculate the root-mean-square deviation (RMSD) after optimal superposition.\n",
        "\n",
        "    This function aligns the second set of coordinates onto the first using the\n",
        "    Singular Value Decomposition (SVD) method provided by the SVDSuperimposer class,\n",
        "    and computes the RMSD between them.\n",
        "\n",
        "    Parameters:\n",
        "    coords1 (numpy.ndarray): The reference coordinate set as a NxD numpy array,\n",
        "                             where N is the number of points and D is the dimensionality.\n",
        "    coords2 (numpy.ndarray): The coordinate set to align as a NxD numpy array,\n",
        "                             matching the dimensions of coords1.\n",
        "\n",
        "    Returns:\n",
        "    float: The computed RMSD value indicating the average distance between all pairs\n",
        "           of corresponding points after optimal superposition.\n",
        "    \"\"\"\n",
        "    sup = SVDSuperimposer()\n",
        "    sup.set(coords1, coords2)\n",
        "    sup.run()\n",
        "    rms = sup.get_rms()\n",
        "    return rms\n",
        "\n",
        "print(compute_rmsd(af2_coords, af3_coords))"
      ],
      "metadata": {
        "id": "99vSvhhqKK5R"
      },
      "execution_count": null,
      "outputs": []
    },
    {
      "cell_type": "markdown",
      "source": [
        "**ANSWER**:"
      ],
      "metadata": {
        "id": "fV96rg7PwWUF"
      }
    },
    {
      "cell_type": "markdown",
      "source": [
        "Take a look at the contact maps for each of your two structures. A protein contact map represents the distance between all possible amino acid residue pairs of a three-dimensional protein structure using a binary two-dimensional matrix M. For two residues\n",
        "i and j, the M[i,j] is 1 if the two residues are closer than a predetermined distance threshold, and 0 otherwise. Note that the points are very light on the contact map."
      ],
      "metadata": {
        "id": "3A9RwiaIK0uf"
      }
    },
    {
      "cell_type": "code",
      "source": [
        "def calculate_contact_map(structure, distance_threshold=5.0):\n",
        "    \"\"\"\n",
        "    Calculates the contact map for a given structure based on distance between C-alpha atoms.\n",
        "\n",
        "    Parameters:\n",
        "    structure: Parsed protein structure.\n",
        "    distance_threshold (float): Threshold distance to consider residues as being in contact.\n",
        "\n",
        "    Returns:\n",
        "    contact_map (2D array): Contact map matrix where 1 represents contact and 0 represents no contact.\n",
        "    \"\"\"\n",
        "    model = structure[0]  # Use first model of the structure\n",
        "    atoms = [residue['CA'] for chain in model for residue in chain if residue.has_id('CA')]\n",
        "\n",
        "    # Initialize a contact map of size (number of atoms) x (number of atoms)\n",
        "    num_atoms = len(atoms)\n",
        "    contact_map = np.zeros((num_atoms, num_atoms))\n",
        "\n",
        "    # Calculate pairwise distances and fill the contact map\n",
        "    for i, atom1 in enumerate(atoms):\n",
        "        for j, atom2 in enumerate(atoms):\n",
        "            distance = atom1 - atom2  # Distance between two atoms\n",
        "            if distance < distance_threshold:\n",
        "                contact_map[i][j] = 1\n",
        "\n",
        "    return contact_map"
      ],
      "metadata": {
        "id": "QZU8NvpgK2Gs"
      },
      "execution_count": null,
      "outputs": []
    },
    {
      "cell_type": "code",
      "source": [
        "def plot_contact_map(contact_map, title):\n",
        "    \"\"\"\n",
        "    Plots the contact map using Matplotlib.\n",
        "\n",
        "    Parameters:\n",
        "    contact_map (2D array): The contact map to be plotted.\n",
        "    title (str): Title of the plot.\n",
        "    \"\"\"\n",
        "    plt.imshow(contact_map, cmap='Greys', interpolation='nearest')\n",
        "    plt.title(title)\n",
        "    plt.xlabel('Residue Index')\n",
        "    plt.ylabel('Residue Index')\n",
        "    plt.colorbar(label='Contact (1=Yes, 0=No)')\n",
        "    plt.show()"
      ],
      "metadata": {
        "id": "52WZd9SC5H7D"
      },
      "execution_count": null,
      "outputs": []
    },
    {
      "cell_type": "markdown",
      "source": [
        "Do the models predict the same or different contacts?"
      ],
      "metadata": {
        "id": "Kwor-7Xh8MkL"
      }
    },
    {
      "cell_type": "markdown",
      "source": [
        "**ANSWER**:"
      ],
      "metadata": {
        "id": "xGk8YKYPOQYF"
      }
    },
    {
      "cell_type": "markdown",
      "source": [
        "#### 2.A.4 Question\n",
        "\n",
        "Look at the model mutation effect predictions (from ESM and PSSM) on surface of your AF3 protein structure. You will need to download Pymol (https://www.pymol.org/) as well as your protein structures locally (to match the pdb_file name outputted to the pml file). This code outputs a pml file that is run within Pymol."
      ],
      "metadata": {
        "id": "1TGEgNYPP6mu"
      }
    },
    {
      "cell_type": "code",
      "source": [
        "def export_mutability_to_pymol(mutability_scores, pdb_file, output_file=\"mutability_scores.pml\"):\n",
        "    \"\"\"\n",
        "    Exports mutability scores to a PyMOL script that can color the structure by mutability.\n",
        "\n",
        "    Parameters:\n",
        "    mutability_scores (dict): Dictionary of residue positions and their mutability scores.\n",
        "    pdb_file (str): Path to the PDB file of the protein structure locally (to load into pymol).\n",
        "    output_file (str): Path to the PyMOL script file (default is \"mutability_scores.pml\").\n",
        "    \"\"\"\n",
        "    with open(output_file, 'w') as f:\n",
        "        f.write(f\"load {pdb_file}\\n\")\n",
        "        f.write(f\"color grey\\n\")\n",
        "\n",
        "        for residue_index, mutability_score in mutability_scores.items():\n",
        "            # Generate PyMOL coloring commands based on mutability scores\n",
        "            color_value = mutability_score  # Scale these scores as needed\n",
        "            f.write(f\"set_color res_{residue_index}_color, [{color_value}, {1 - color_value}, 0]\\n\")\n",
        "            f.write(f\"color res_{residue_index}_color, resi {residue_index}\\n\")\n",
        "\n",
        "        f.write(\"show cartoon\\n\")\n",
        "        f.write(\"bg_color white\\n\")\n",
        "        f.write(\"set cartoon_transparency, 0.3\\n\")\n",
        "        f.write(\"zoom\\n\")\n",
        "\n",
        "    print(f\"PyMOL script saved to {output_file}. Run the script in PyMOL to visualize mutability.\")\n",
        "\n",
        "\n",
        "###COMPLETE HERE\n",
        "#Your mutability scores are a dict of your position-averaged PSSM or ESM scores\n",
        "#you should scale your mutability scores to be between 0 and 1\n",
        "#from experiment_single_muts for each position as the key"
      ],
      "metadata": {
        "id": "TM1i1ftJP6wn"
      },
      "execution_count": null,
      "outputs": []
    },
    {
      "cell_type": "markdown",
      "source": [
        "Looking at the protein, what can you say about where it is more mutable? What information does this tell you that is different than looking how mutability changes across the primary sequence?\n",
        "\n",
        "\n",
        "**ANSWER**: (upload 2 images from pymol, one for PSSM and one for ESM)"
      ],
      "metadata": {
        "id": "c8GhxHN46CdW"
      }
    },
    {
      "cell_type": "markdown",
      "source": [
        "**ANSWER**:"
      ],
      "metadata": {
        "id": "CRLH0DHyOXX5"
      }
    },
    {
      "cell_type": "markdown",
      "source": [
        "Plot also the DMS scores on the surface. What can you say about where prediction differ from the model scores?"
      ],
      "metadata": {
        "id": "vDK_3sxZ6Z4s"
      }
    },
    {
      "cell_type": "code",
      "source": [
        "###COMPLETE HERE"
      ],
      "metadata": {
        "id": "Bb8g-7-3OEvI"
      },
      "execution_count": null,
      "outputs": []
    },
    {
      "cell_type": "markdown",
      "source": [
        "**ANSWER**: (upload image from pymol)"
      ],
      "metadata": {
        "id": "IikT_4w1OdtK"
      }
    },
    {
      "cell_type": "markdown",
      "source": [
        "**ANSWER**:"
      ],
      "metadata": {
        "id": "jt69VrMWONQ3"
      }
    },
    {
      "cell_type": "markdown",
      "source": [
        "## 3. Active Learning\n",
        "\n",
        "We are going to follow the few-shot active learning framework from https://www.biorxiv.org/content/10.1101/2024.07.17.604015v1.full.\n",
        "\n",
        "1) selecting a random set of first-round variants\n",
        "\n",
        "2) employing a regressor discriminatory model to predict protein activities of all AAV mutations from the same dataset above (the paper here uses a random forest, but feel free to experiment with other models too!)\n",
        "\n",
        "3) using residue pooled average final embeddings from ESM (you can use the same ESM 8M parameter model) as input to your model output the predicted fitness of each variant (or your choice of other embedding from ESM!)\n",
        "\n",
        "4) using a top-15 selection strategy in each round of evolution to add to your new training set for your model and re-train.\n",
        "\n",
        "The AAV experimental data (experimental_single_muts) used above is your oracle of how the mutations you tested actually perform (get the experimental values for the mutations your model tells you to experimentally test).\n",
        "\n",
        "Report your best performing mutant after 5 rounds of experiments and re-training."
      ],
      "metadata": {
        "id": "lTKzAc41tPAn"
      }
    },
    {
      "cell_type": "code",
      "source": [
        "# Initial random selection of mutation candidates\n",
        "mutation_candidates = []\n",
        "random_selected = np.random.choice(experiment_single_muts[\"mutant\"], 15, replace=False)\n",
        "print(f\"Randomly selected mutations for Round 1: {random_selected}\")"
      ],
      "metadata": {
        "id": "qUur-iNrtYGK"
      },
      "execution_count": null,
      "outputs": []
    },
    {
      "cell_type": "markdown",
      "source": [
        "Get the residue pooled average ESM embedding from one of the ESM models used above."
      ],
      "metadata": {
        "id": "lkSGHsRlthFA"
      }
    },
    {
      "cell_type": "code",
      "source": [
        "# Function to compute the ESM embedding for each mutation\n",
        "def get_features(mutation):\n",
        "    pos = int(mutation[1:-1])  # Extract position from mutation (e.g., K10R -> 10)\n",
        "    original_aa = mutation[0]\n",
        "    mutated_aa = mutation[-1]\n",
        "\n",
        "    ###COMPLETE HERE\n",
        "    # ESM embedding\n",
        "    #use the ESM model to get a 1D vector ESM embedding (from ESM final layer)\n",
        "    #average across all positions for your sequence with that mutation\n",
        "    return esm_embedding\n",
        "\n",
        "# Get features and labels (DMS experimental values) for Round 1\n",
        "X_round1 = np.array([get_features(mut) for mut in random_selected])\n",
        "y_round1 = np.array([experiment_single_muts[experiment_single_muts[\"mutant\"] == mut][\"DMS_score\"] for mut in random_selected])"
      ],
      "metadata": {
        "id": "Hx7DLMFFtePR"
      },
      "execution_count": null,
      "outputs": []
    },
    {
      "cell_type": "markdown",
      "source": [
        "You will now train a regressor model, such as a random forest, to predict mutation performance using the features generated from ESM embeddings. You can use a regressor from sklearn such as: https://scikit-learn.org/stable/modules/generated/sklearn.ensemble.RandomForestRegressor.html."
      ],
      "metadata": {
        "id": "VVZp4OkItulW"
      }
    },
    {
      "cell_type": "code",
      "source": [
        "#Train a regressor model on your first round of data\n",
        "\n",
        "###COMPLETE HERE\n",
        "# Train a regression model (random forest or other model)\n",
        "model = #\n",
        "\n",
        "#fit model on X_round1, y_round1\n"
      ],
      "metadata": {
        "id": "ZucFHIG_TDWi"
      },
      "execution_count": null,
      "outputs": []
    },
    {
      "cell_type": "markdown",
      "source": [
        "For each round of active learning, predict mutation performance for all candidate mutations, select the top-15 mutations with the highest predicted scores, and add these to the training set. You will train a regressor model, such as a random forest, to predict mutation performance using the features generated from ESM embeddings."
      ],
      "metadata": {
        "id": "7jMVw4XVt1sj"
      }
    },
    {
      "cell_type": "code",
      "source": [
        "# Function to select top-N mutations based on predicted model scores\n",
        "def select_top_n(model, X, mutation_candidates, n=15):\n",
        "  ###COMPLETE HERE\n",
        "\n",
        "# Active learning loop for 5 rounds\n",
        "n_rounds = 5\n",
        "all_mutation_candidates = list(experiment_single_muts[\"mutant\"])  # All available mutation candidates\n",
        "selected_mutations = random_selected.tolist()\n",
        "\n",
        "for round_num in range(2, n_rounds + 1):\n",
        "    print(f\"\\nRound {round_num}\")\n",
        "\n",
        "    # Get features for all remaining mutations\n",
        "    remaining_mutations = [mut for mut in all_mutation_candidates if mut not in selected_mutations]\n",
        "    X_remaining = np.array([get_features(mut) for mut in remaining_mutations])\n",
        "\n",
        "    # Predict performance for remaining mutations\n",
        "    top_15_mutations = select_top_n(model, X_remaining, remaining_mutations, n=15)\n",
        "    selected_mutations.extend(top_15_mutations)\n",
        "\n",
        "    # Add the top 15 to the training set\n",
        "    #These are the experiments that were run as a result of your model\n",
        "    X_top15 = np.array([get_features(mut) for mut in top_15_mutations])\n",
        "    y_top15 = np.array([experiment_single_muts[experiment_single_muts[\"mutant\"] == mut][\"DMS_score\"] for mut in top_15_mutations])\n",
        "\n",
        "    ###COMPLETE HERE\n",
        "    # Combine with all previous training data and re-train the same regressor model\n",
        "\n",
        "    #what was the experimental DMS_score of your best-performing mutant in your top 15 experiment?\n"
      ],
      "metadata": {
        "id": "fFHcyVGDt8P1"
      },
      "execution_count": null,
      "outputs": []
    },
    {
      "cell_type": "markdown",
      "source": [
        "What was the best-performing mutation after each round of experiments? Did their scores increase over the 5 rounds? (only look at the experimental values of the tested mutations)?"
      ],
      "metadata": {
        "id": "YoQS1B-0Nsow"
      }
    },
    {
      "cell_type": "markdown",
      "source": [
        "How does active learning help reduce the number of mutations tested experimentally? Consider whether active learning manages to identify the most fit single mutation from the deep mutational scan?"
      ],
      "metadata": {
        "id": "_9WaUTgzuC-D"
      }
    },
    {
      "cell_type": "markdown",
      "source": [
        "**ANSWER**:"
      ],
      "metadata": {
        "id": "eQXhJXdSU3kR"
      }
    }
  ]
}